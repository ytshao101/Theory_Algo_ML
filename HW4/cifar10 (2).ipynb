{
 "cells": [
  {
   "cell_type": "code",
   "execution_count": 1,
   "metadata": {
    "id": "QgTNTrbqDQTX"
   },
   "outputs": [],
   "source": [
    "import torch\n",
    "import torch.nn as nn\n",
    "import torch.nn.functional as F\n",
    "import torchvision\n",
    "import torchvision.transforms as transforms\n",
    "import torch.optim as optim\n",
    "import matplotlib.pyplot as plt\n",
    "import numpy as np\n",
    "from torch.utils.data.dataset import random_split\n",
    "from torchvision import datasets\n",
    "from sklearn.metrics import confusion_matrix\n",
    "import PIL"
   ]
  },
  {
   "cell_type": "code",
   "execution_count": null,
   "metadata": {
    "id": "mjg_wllKwdpT"
   },
   "outputs": [],
   "source": []
  },
  {
   "cell_type": "code",
   "execution_count": 2,
   "metadata": {
    "id": "6a29nw3JDYwj"
   },
   "outputs": [],
   "source": [
    "##Do Not Touch This Cell\n",
    "\n",
    "class Net(nn.Module):\n",
    "    def __init__(self):\n",
    "        super(Net, self).__init__()\n",
    "        self.conv1 = nn.Conv2d(3, 8, 5)\n",
    "        self.conv2 = nn.Conv2d(8, 16, 3)\n",
    "        self.bn1 = nn.BatchNorm2d(8)\n",
    "        self.bn2 = nn.BatchNorm2d(16)\n",
    "        self.fc1 = nn.Linear(16*6*6, 120)\n",
    "        self.fc2 = nn.Linear(120, 84)\n",
    "        self.fc3 = nn.Linear(84, 10)\n",
    "\n",
    "    def forward(self, x):\n",
    "        out = F.relu(self.bn1(self.conv1(x)))\n",
    "        out = F.max_pool2d(out, 2)\n",
    "        out = F.relu(self.bn2(self.conv2(out)))\n",
    "        out = F.max_pool2d(out, 2)\n",
    "        out = out.view(out.size(0), -1)\n",
    "        out = F.relu(self.fc1(out))\n",
    "        out = F.relu(self.fc2(out))\n",
    "        out = self.fc3(out)\n",
    "        return out\n",
    "\n"
   ]
  },
  {
   "cell_type": "code",
   "execution_count": 3,
   "metadata": {
    "colab": {
     "base_uri": "https://localhost:8080/"
    },
    "id": "bYVvBsNKDjdY",
    "outputId": "a21e3ad5-67ca-4bf6-83a0-9d26d6018f0e"
   },
   "outputs": [
    {
     "name": "stdout",
     "output_type": "stream",
     "text": [
      "Train on GPU...\n"
     ]
    }
   ],
   "source": [
    "##Do Not Touch This Cell\n",
    "\n",
    "device = 'cuda' if torch.cuda.is_available() else 'cpu'\n",
    "net = Net().to(device)\n",
    "optimizer = optim.SGD(net.parameters(), lr=0.01, momentum=0.5)\n",
    "if device =='cuda':\n",
    "    print(\"Train on GPU...\")\n",
    "else:\n",
    "    print(\"Train on CPU...\")"
   ]
  },
  {
   "cell_type": "code",
   "execution_count": 4,
   "metadata": {
    "colab": {
     "base_uri": "https://localhost:8080/"
    },
    "id": "Bu618_bdDyaF",
    "outputId": "230e61ec-0af2-4e9f-a787-9a0642711398"
   },
   "outputs": [
    {
     "data": {
      "text/plain": [
       "<torch._C.Generator at 0x7f6528454170>"
      ]
     },
     "execution_count": 4,
     "metadata": {},
     "output_type": "execute_result"
    }
   ],
   "source": [
    "##Do Not Touch This Cell\n",
    "max_epochs = 50\n",
    "\n",
    "random_seed = 671\n",
    "torch.manual_seed(random_seed)"
   ]
  },
  {
   "cell_type": "code",
   "execution_count": 5,
   "metadata": {
    "colab": {
     "base_uri": "https://localhost:8080/",
     "height": 101,
     "referenced_widgets": [
      "82d056629fd14033a6740828ae32462b",
      "e2cebb95b376423c9a8fab33d8999249",
      "f444c599b5e84fb3abbe64548cd0b1d7",
      "76ec660c54884e8e922267ae002f7bdb",
      "b8cf90f72fcc4ceb87ad537e4801a610",
      "9a398ea1ecd146ff81f2919fa54ed592",
      "40fe74493fd94cd4b756458bafc6ace0",
      "5eecb404afcf4b638b6483b7eb486fff",
      "2a0583b28acb4608b33c45048b00fdfb",
      "1b1adc90c2524c9393eb3726fd7a198e",
      "8b031c6eb4844167b0862d1f99815ddf"
     ]
    },
    "id": "lvBlqSLwD1bP",
    "outputId": "8b21d5d8-83e9-402e-eb58-b8f80b2ad276"
   },
   "outputs": [
    {
     "name": "stdout",
     "output_type": "stream",
     "text": [
      "Downloading https://www.cs.toronto.edu/~kriz/cifar-10-python.tar.gz to ./data/cifar-10-python.tar.gz\n"
     ]
    },
    {
     "data": {
      "application/vnd.jupyter.widget-view+json": {
       "model_id": "82d056629fd14033a6740828ae32462b",
       "version_major": 2,
       "version_minor": 0
      },
      "text/plain": [
       "  0%|          | 0/170498071 [00:00<?, ?it/s]"
      ]
     },
     "metadata": {},
     "output_type": "display_data"
    },
    {
     "name": "stdout",
     "output_type": "stream",
     "text": [
      "Extracting ./data/cifar-10-python.tar.gz to ./data\n",
      "Files already downloaded and verified\n"
     ]
    }
   ],
   "source": [
    "train_transform = transforms.Compose(\n",
    "     [transforms.ToTensor(),\n",
    "     transforms.Normalize((0.4914, 0.4822, 0.4465), (0.2023, 0.1994, 0.2010))])\n",
    "\n",
    "test_transform = transforms.Compose(\n",
    "     [transforms.ToTensor(),\n",
    "     transforms.Normalize((0.4914, 0.4822, 0.4465), (0.2023, 0.1994, 0.2010))])\n",
    "\n",
    "dataset = torchvision.datasets.CIFAR10(root='./data', train=True, download=True, \n",
    "                                       transform=train_transform)\n",
    "##TODO: Split the set into 80% train, 20% validation (there are 50K total images)\n",
    "train_num = int(0.8 * 50000)\n",
    "val_num = int(0.2 * 50000)\n",
    "train_set, val_set = random_split(dataset, [train_num, val_num])\n",
    "\n",
    "train_loader = torch.utils.data.DataLoader(train_set, batch_size=128, shuffle=True)\n",
    "val_loader = torch.utils.data.DataLoader(val_set, batch_size=128, shuffle=False)\n",
    "\n",
    "test_set = torchvision.datasets.CIFAR10(root='./data', train=False, \n",
    "                                        download=True, transform=test_transform)\n",
    "test_loader = torch.utils.data.DataLoader(test_set, batch_size=1, shuffle=False)\n",
    "\n",
    "classes = ['plane', 'car', 'bird', 'cat', 'deer', 'dog', \n",
    "           'frog', 'horse', 'ship', 'truck']"
   ]
  },
  {
   "cell_type": "code",
   "execution_count": 6,
   "metadata": {
    "colab": {
     "base_uri": "https://localhost:8080/"
    },
    "id": "Pf_6Scg2AVS8",
    "outputId": "172de010-9fc8-4181-81d4-1d077a94cfc9"
   },
   "outputs": [
    {
     "data": {
      "text/plain": [
       "40000"
      ]
     },
     "execution_count": 6,
     "metadata": {},
     "output_type": "execute_result"
    }
   ],
   "source": [
    "len(train_set)"
   ]
  },
  {
   "cell_type": "code",
   "execution_count": 7,
   "metadata": {
    "colab": {
     "base_uri": "https://localhost:8080/"
    },
    "id": "3tTdQ-8lFY57",
    "outputId": "80545172-df1c-4e4f-9d76-994505f36b11"
   },
   "outputs": [
    {
     "name": "stdout",
     "output_type": "stream",
     "text": [
      "[epoch 1] loss: 0.01591 accuracy: 0.2610 val loss: 0.01390 val accuracy: 0.3579\n",
      "[epoch 2] loss: 0.01234 accuracy: 0.4176 val loss: 0.01163 val accuracy: 0.4683\n",
      "[epoch 3] loss: 0.01088 accuracy: 0.4937 val loss: 0.01062 val accuracy: 0.5151\n",
      "[epoch 4] loss: 0.01002 accuracy: 0.5396 val loss: 0.00987 val accuracy: 0.5547\n",
      "[epoch 5] loss: 0.00947 accuracy: 0.5695 val loss: 0.00991 val accuracy: 0.5523\n",
      "[epoch 6] loss: 0.00911 accuracy: 0.5879 val loss: 0.01009 val accuracy: 0.5614\n",
      "[epoch 7] loss: 0.00877 accuracy: 0.6035 val loss: 0.00908 val accuracy: 0.5976\n",
      "[epoch 8] loss: 0.00850 accuracy: 0.6174 val loss: 0.00937 val accuracy: 0.5924\n",
      "[epoch 9] loss: 0.00823 accuracy: 0.6284 val loss: 0.00859 val accuracy: 0.6161\n",
      "[epoch 10] loss: 0.00802 accuracy: 0.6374 val loss: 0.00857 val accuracy: 0.6217\n",
      "[epoch 11] loss: 0.00783 accuracy: 0.6459 val loss: 0.00854 val accuracy: 0.6227\n",
      "[epoch 12] loss: 0.00758 accuracy: 0.6597 val loss: 0.00817 val accuracy: 0.6356\n",
      "[epoch 13] loss: 0.00742 accuracy: 0.6677 val loss: 0.00814 val accuracy: 0.6411\n",
      "[epoch 14] loss: 0.00726 accuracy: 0.6743 val loss: 0.00786 val accuracy: 0.6557\n",
      "[epoch 15] loss: 0.00710 accuracy: 0.6805 val loss: 0.00781 val accuracy: 0.6534\n",
      "[epoch 16] loss: 0.00694 accuracy: 0.6892 val loss: 0.00784 val accuracy: 0.6517\n",
      "[epoch 17] loss: 0.00674 accuracy: 0.6996 val loss: 0.00803 val accuracy: 0.6459\n",
      "[epoch 18] loss: 0.00662 accuracy: 0.7035 val loss: 0.00766 val accuracy: 0.6635\n",
      "[epoch 19] loss: 0.00646 accuracy: 0.7102 val loss: 0.00797 val accuracy: 0.6535\n",
      "[epoch 20] loss: 0.00632 accuracy: 0.7159 val loss: 0.00791 val accuracy: 0.6545\n",
      "[epoch 21] loss: 0.00617 accuracy: 0.7240 val loss: 0.00763 val accuracy: 0.6642\n",
      "[epoch 22] loss: 0.00602 accuracy: 0.7325 val loss: 0.00749 val accuracy: 0.6730\n",
      "[epoch 23] loss: 0.00586 accuracy: 0.7392 val loss: 0.00749 val accuracy: 0.6749\n",
      "[epoch 24] loss: 0.00574 accuracy: 0.7425 val loss: 0.00756 val accuracy: 0.6701\n",
      "[epoch 25] loss: 0.00560 accuracy: 0.7512 val loss: 0.00757 val accuracy: 0.6788\n",
      "[epoch 26] loss: 0.00547 accuracy: 0.7553 val loss: 0.00790 val accuracy: 0.6628\n",
      "[epoch 27] loss: 0.00534 accuracy: 0.7616 val loss: 0.00786 val accuracy: 0.6643\n",
      "[epoch 28] loss: 0.00517 accuracy: 0.7694 val loss: 0.00741 val accuracy: 0.6842\n",
      "[epoch 29] loss: 0.00509 accuracy: 0.7736 val loss: 0.00761 val accuracy: 0.6747\n",
      "[epoch 30] loss: 0.00496 accuracy: 0.7781 val loss: 0.00745 val accuracy: 0.6827\n",
      "[epoch 31] loss: 0.00481 accuracy: 0.7867 val loss: 0.00757 val accuracy: 0.6784\n",
      "[epoch 32] loss: 0.00468 accuracy: 0.7914 val loss: 0.00775 val accuracy: 0.6796\n",
      "[epoch 33] loss: 0.00456 accuracy: 0.7984 val loss: 0.00821 val accuracy: 0.6593\n",
      "[epoch 34] loss: 0.00447 accuracy: 0.8022 val loss: 0.00774 val accuracy: 0.6772\n",
      "[epoch 35] loss: 0.00435 accuracy: 0.8074 val loss: 0.00784 val accuracy: 0.6806\n",
      "[epoch 36] loss: 0.00422 accuracy: 0.8147 val loss: 0.00810 val accuracy: 0.6797\n",
      "[epoch 37] loss: 0.00412 accuracy: 0.8184 val loss: 0.00803 val accuracy: 0.6729\n",
      "[epoch 38] loss: 0.00399 accuracy: 0.8241 val loss: 0.00788 val accuracy: 0.6894\n",
      "[epoch 39] loss: 0.00388 accuracy: 0.8268 val loss: 0.00814 val accuracy: 0.6755\n",
      "[epoch 40] loss: 0.00379 accuracy: 0.8336 val loss: 0.00815 val accuracy: 0.6795\n",
      "[epoch 41] loss: 0.00367 accuracy: 0.8383 val loss: 0.00827 val accuracy: 0.6787\n",
      "[epoch 42] loss: 0.00357 accuracy: 0.8418 val loss: 0.00879 val accuracy: 0.6636\n",
      "[epoch 43] loss: 0.00346 accuracy: 0.8463 val loss: 0.00859 val accuracy: 0.6783\n",
      "[epoch 44] loss: 0.00336 accuracy: 0.8512 val loss: 0.00883 val accuracy: 0.6674\n",
      "[epoch 45] loss: 0.00331 accuracy: 0.8524 val loss: 0.00933 val accuracy: 0.6644\n",
      "[epoch 46] loss: 0.00319 accuracy: 0.8580 val loss: 0.00900 val accuracy: 0.6700\n",
      "[epoch 47] loss: 0.00307 accuracy: 0.8630 val loss: 0.00949 val accuracy: 0.6604\n",
      "[epoch 48] loss: 0.00298 accuracy: 0.8682 val loss: 0.00949 val accuracy: 0.6679\n",
      "[epoch 49] loss: 0.00291 accuracy: 0.8707 val loss: 0.00897 val accuracy: 0.6744\n",
      "[epoch 50] loss: 0.00279 accuracy: 0.8781 val loss: 0.00953 val accuracy: 0.6761\n"
     ]
    }
   ],
   "source": [
    "loss_list, acc_list = [], []\n",
    "loss_list_val, acc_list_val = [], []\n",
    "criterion = nn.CrossEntropyLoss()\n",
    "\n",
    "for epoch in range(max_epochs):\n",
    "    #TODO: set the net to train mode:\n",
    "    model_t = net.train()\n",
    "\n",
    "    epoch_loss = 0.0\n",
    "    correct = 0\n",
    "    for batch_idx, (data, labels) in enumerate(train_loader):\n",
    "        data, labels = data.to(device), labels.to(device)\n",
    "\n",
    "        optimizer.zero_grad()\n",
    "        ##TODO: pass the data into the network and store the output\n",
    "        output = model_t(data)\n",
    "\n",
    "        ##TODO: Calculate the cross entropy loss between the output and target\n",
    "        loss = criterion(output, labels) \n",
    "        \n",
    "        ##TODO: Perform backpropagation\n",
    "        optimizer.zero_grad()\n",
    "        loss.backward()\n",
    "        optimizer.step()\n",
    "\n",
    "        ##TODO: Get the prediction from the output\n",
    "        _, predicted = torch.max(output.data, 1)\n",
    "\n",
    "        ##TODO: Calculate the correct number and add the number to correct\n",
    "        correct += (predicted == labels).sum()\n",
    "\n",
    "        ##TODO: Add the loss to epoch_loss.\n",
    "        epoch_loss += loss\n",
    "\n",
    "    ##TODO: calculate the average loss\n",
    "    avg_loss = epoch_loss / len(train_set)\n",
    "\n",
    "    ##TODO: calculate the average accuracy\n",
    "    avg_acc = correct / len(train_set)\n",
    "\n",
    "    ##TODO: append average epoch loss to loss list\n",
    "    loss_list.append(avg_loss)\n",
    "\n",
    "    ##TODO: append average accuracy to accuracy list\n",
    "    acc_list.append(avg_acc)\n",
    "\n",
    "\n",
    "\n",
    "    # validation\n",
    "    ##TODO: set the model to eval mode\n",
    "    model_val = net.eval()\n",
    "\n",
    "    with torch.no_grad():\n",
    "        loss_val = 0.0\n",
    "        correct_val = 0\n",
    "        for batch_idx, (data, labels) in enumerate(val_loader):\n",
    "            data, labels = data.to(device), labels.to(device)\n",
    "            ##TODO: pass the data into the network and store the output\n",
    "            output_val = model_val(data)\n",
    "\n",
    "            ##TODO: Calculate the cross entropy loss between the output and target \n",
    "            loss_val_ = criterion(output_val, labels)\n",
    "\n",
    "            ##TODO: Get the prediction from the output\n",
    "            _, predicted_val = torch.max(output_val.data, 1)\n",
    "\n",
    "            ##TODO: Calculate the correct number and add the number to correct_val\n",
    "            correct_val += (predicted_val == labels).sum()\n",
    "\n",
    "            ##TODO: Add the loss to loss_val\n",
    "            loss_val += loss_val_\n",
    "\n",
    "        ##TODO: calculate the average loss of validation\n",
    "        avg_loss_val = loss_val / len(test_set)\n",
    "\n",
    "        ##TODO: calculate the average accuracy of validation\n",
    "        avg_acc_val = correct_val / len(test_set)\n",
    "\n",
    "        ##TODO: append average epoch loss to loss list of validation\n",
    "        loss_list_val.append(avg_loss_val)\n",
    "\n",
    "        ##TODO: append average accuracy to accuracy list of validation\n",
    "        acc_list_val.append(avg_acc_val)\n",
    "\n",
    "    print('[epoch %d] loss: %.5f accuracy: %.4f val loss: %.5f val accuracy: %.4f' % (epoch + 1, avg_loss, avg_acc, avg_loss_val, avg_acc_val))"
   ]
  },
  {
   "cell_type": "code",
   "execution_count": 8,
   "metadata": {
    "id": "4HMRjTUk2LMp"
   },
   "outputs": [],
   "source": [
    "loss_list1 = [loss_list[i].item() for i in range(len(loss_list))]\n",
    "loss_list_val1 = [loss_list_val[i].item() for i in range(len(loss_list_val))]\n",
    "acc_list1 = [acc_list[i].item() for i in range(len(acc_list))]\n",
    "acc_list_val1 = [acc_list_val[i].item() for i in range(len(acc_list_val))]\n"
   ]
  },
  {
   "cell_type": "code",
   "execution_count": 9,
   "metadata": {
    "colab": {
     "base_uri": "https://localhost:8080/",
     "height": 388
    },
    "id": "9rnxqivjbaZf",
    "outputId": "f9fea5b1-776b-4b01-e17b-c0e556ec5b28"
   },
   "outputs": [
    {
     "data": {
      "image/png": "[encoded data removed]",
      "text/plain": [
       "<Figure size 576x432 with 1 Axes>"
      ]
     },
     "metadata": {
      "needs_background": "light"
     },
     "output_type": "display_data"
    }
   ],
   "source": [
    "##TODO: Plot the training losses and validation losses\n",
    "X = range(max_epochs)\n",
    "y1 = loss_list1\n",
    "y2 = loss_list_val1\n",
    "fig1, ax1 = plt.subplots(figsize=(8,6))\n",
    "plt.plot(X, y1)\n",
    "plt.plot(X, y2)\n",
    "plt.xlabel('epochs')\n",
    "plt.ylabel('training losses and validation losses')\n",
    "plt.legend(['training losses', 'validation losses']);\n"
   ]
  },
  {
   "cell_type": "code",
   "execution_count": 10,
   "metadata": {
    "colab": {
     "base_uri": "https://localhost:8080/",
     "height": 388
    },
    "id": "9NzRkpMQeoVg",
    "outputId": "d28913e7-c64c-4874-db56-6cdab4e85931"
   },
   "outputs": [
    {
     "data": {
      "image/png": "[encoded data removed]",
      "text/plain": [
       "<Figure size 576x432 with 1 Axes>"
      ]
     },
     "metadata": {
      "needs_background": "light"
     },
     "output_type": "display_data"
    }
   ],
   "source": [
    "##TODO: Plot the training accuracies and validation accuracies\n",
    "X = range(max_epochs)\n",
    "y3 = acc_list1\n",
    "y4 = acc_list_val1\n",
    "fig2, ax2 = plt.subplots(figsize=(8,6))\n",
    "plt.plot(X, y3)\n",
    "plt.plot(X, y4)\n",
    "plt.xlabel('epochs')\n",
    "plt.ylabel('training accuracies and validation accuracies')\n",
    "plt.legend(['training accuracies', 'validation accuracies']);"
   ]
  },
  {
   "cell_type": "markdown",
   "metadata": {
    "id": "KDsHiEi80Jz9"
   },
   "source": [
    "This model overfits on the data. Because the training accuracy is higher than validation accuracy."
   ]
  },
  {
   "cell_type": "code",
   "execution_count": 11,
   "metadata": {
    "colab": {
     "base_uri": "https://localhost:8080/"
    },
    "id": "zoZp-CnkXlHL",
    "outputId": "961d8a78-5110-46f8-bb34-3a0d10aaf7c0"
   },
   "outputs": [
    {
     "name": "stdout",
     "output_type": "stream",
     "text": [
      "Accuracy on the 10000 test images: 67.55 %\n"
     ]
    }
   ],
   "source": [
    "#Test\n",
    "true_labels = []\n",
    "predictions = []\n",
    "correct_test = 0\n",
    "model_test = net.eval()\n",
    "with torch.no_grad():\n",
    "    for batch_idx, (data, label) in enumerate(test_loader):\n",
    "        data, label = data.to(device), label.to(device)\n",
    "        ##TODO: pass the data into the network and store the output\n",
    "        output_test = model_test(data)\n",
    "\n",
    "        ##TODO: Get the prediction from the output\n",
    "        _, predicted_test = torch.max(output_test.data, 1)\n",
    "\n",
    "\n",
    "        ##TODO: Calculate the correct number and add the number to correct_test\n",
    "        correct_test += (predicted_test == label).sum()\n",
    "\n",
    "\n",
    "        ##TODO: update predictions list and true label list\n",
    "        true_labels.append(label.item())\n",
    "        predictions.append(predicted_test.item())\n",
    "\n",
    "        ##We can directly append the value because here batch_size=1\n",
    "\n",
    "\n",
    "\n",
    "print('Accuracy on the 10000 test images: %.2f %%' % (100 * correct_test / len(test_set)))"
   ]
  },
  {
   "cell_type": "code",
   "execution_count": 12,
   "metadata": {
    "colab": {
     "base_uri": "https://localhost:8080/"
    },
    "id": "UIG4QdQZmxCm",
    "outputId": "8422f76e-bad0-403c-efbe-bc98ceb093c5"
   },
   "outputs": [
    {
     "data": {
      "text/plain": [
       "array([[671,  28,  61,  13,  53,  11,  20,  22,  86,  35],\n",
       "       [ 18, 821,   3,   6,   6,   1,  16,   7,  34,  88],\n",
       "       [ 63,  11, 520,  61, 127,  39,  92,  58,  23,   6],\n",
       "       [ 21,  13,  69, 441, 105, 100, 144,  64,  24,  19],\n",
       "       [ 10,  10,  52,  42, 669,  14,  89,  91,  17,   6],\n",
       "       [ 11,   4,  60, 198,  95, 433,  80, 101,   7,  11],\n",
       "       [  4,   7,  23,  44,  41,  13, 853,   8,   6,   1],\n",
       "       [ 13,  10,  23,  34,  74,  31,  15, 779,   4,  17],\n",
       "       [ 57,  57,  17,  10,  18,   2,   7,   6, 796,  30],\n",
       "       [ 26, 115,   9,  10,  14,   1,   6,  18,  29, 772]])"
      ]
     },
     "execution_count": 12,
     "metadata": {},
     "output_type": "execute_result"
    }
   ],
   "source": [
    "##TODO: print the confusion matrix of test set\n",
    "##You can use sklearn.metrics.confusion_matrix\n",
    "confusion_matrix(true_labels, predictions)"
   ]
  },
  {
   "cell_type": "markdown",
   "metadata": {
    "id": "8vgWwQ7vzuJg"
   },
   "source": [
    "Cat and dog get confused most. This makes sense because cat looks very similar to dogs."
   ]
  },
  {
   "cell_type": "code",
   "execution_count": 12,
   "metadata": {
    "id": "HkZZAJZj48Pb"
   },
   "outputs": [],
   "source": []
  }
 ],
 "metadata": {
  "accelerator": "GPU",
  "colab": {
   "provenance": []
  },
  "gpuClass": "standard",
  "kernelspec": {
   "display_name": "Python 3 (ipykernel)",
   "language": "python",
   "name": "python3"
  },
  "language_info": {
   "codemirror_mode": {
    "name": "ipython",
    "version": 3
   },
   "file_extension": ".py",
   "mimetype": "text/x-python",
   "name": "python",
   "nbconvert_exporter": "python",
   "pygments_lexer": "ipython3",
   "version": "3.9.12"
  },
  "widgets": {
   "application/vnd.jupyter.widget-state+json": {
    "1b1adc90c2524c9393eb3726fd7a198e": {
     "model_module": "@jupyter-widgets/base",
     "model_module_version": "1.2.0",
     "model_name": "LayoutModel",
     "state": {
      "_model_module": "@jupyter-widgets/base",
      "_model_module_version": "1.2.0",
      "_model_name": "LayoutModel",
      "_view_count": null,
      "_view_module": "@jupyter-widgets/base",
      "_view_module_version": "1.2.0",
      "_view_name": "LayoutView",
      "align_content": null,
      "align_items": null,
      "align_self": null,
      "border": null,
      "bottom": null,
      "display": null,
      "flex": null,
      "flex_flow": null,
      "grid_area": null,
      "grid_auto_columns": null,
      "grid_auto_flow": null,
      "grid_auto_rows": null,
      "grid_column": null,
      "grid_gap": null,
      "grid_row": null,
      "grid_template_areas": null,
      "grid_template_columns": null,
      "grid_template_rows": null,
      "height": null,
      "justify_content": null,
      "justify_items": null,
      "left": null,
      "margin": null,
      "max_height": null,
      "max_width": null,
      "min_height": null,
      "min_width": null,
      "object_fit": null,
      "object_position": null,
      "order": null,
      "overflow": null,
      "overflow_x": null,
      "overflow_y": null,
      "padding": null,
      "right": null,
      "top": null,
      "visibility": null,
      "width": null
     }
    },
    "2a0583b28acb4608b33c45048b00fdfb": {
     "model_module": "@jupyter-widgets/controls",
     "model_module_version": "1.5.0",
     "model_name": "ProgressStyleModel",
     "state": {
      "_model_module": "@jupyter-widgets/controls",
      "_model_module_version": "1.5.0",
      "_model_name": "ProgressStyleModel",
      "_view_count": null,
      "_view_module": "@jupyter-widgets/base",
      "_view_module_version": "1.2.0",
      "_view_name": "StyleView",
      "bar_color": null,
      "description_width": ""
     }
    },
    "40fe74493fd94cd4b756458bafc6ace0": {
     "model_module": "@jupyter-widgets/controls",
     "model_module_version": "1.5.0",
     "model_name": "DescriptionStyleModel",
     "state": {
      "_model_module": "@jupyter-widgets/controls",
      "_model_module_version": "1.5.0",
      "_model_name": "DescriptionStyleModel",
      "_view_count": null,
      "_view_module": "@jupyter-widgets/base",
      "_view_module_version": "1.2.0",
      "_view_name": "StyleView",
      "description_width": ""
     }
    },
    "5eecb404afcf4b638b6483b7eb486fff": {
     "model_module": "@jupyter-widgets/base",
     "model_module_version": "1.2.0",
     "model_name": "LayoutModel",
     "state": {
      "_model_module": "@jupyter-widgets/base",
      "_model_module_version": "1.2.0",
      "_model_name": "LayoutModel",
      "_view_count": null,
      "_view_module": "@jupyter-widgets/base",
      "_view_module_version": "1.2.0",
      "_view_name": "LayoutView",
      "align_content": null,
      "align_items": null,
      "align_self": null,
      "border": null,
      "bottom": null,
      "display": null,
      "flex": null,
      "flex_flow": null,
      "grid_area": null,
      "grid_auto_columns": null,
      "grid_auto_flow": null,
      "grid_auto_rows": null,
      "grid_column": null,
      "grid_gap": null,
      "grid_row": null,
      "grid_template_areas": null,
      "grid_template_columns": null,
      "grid_template_rows": null,
      "height": null,
      "justify_content": null,
      "justify_items": null,
      "left": null,
      "margin": null,
      "max_height": null,
      "max_width": null,
      "min_height": null,
      "min_width": null,
      "object_fit": null,
      "object_position": null,
      "order": null,
      "overflow": null,
      "overflow_x": null,
      "overflow_y": null,
      "padding": null,
      "right": null,
      "top": null,
      "visibility": null,
      "width": null
     }
    },
    "76ec660c54884e8e922267ae002f7bdb": {
     "model_module": "@jupyter-widgets/controls",
     "model_module_version": "1.5.0",
     "model_name": "HTMLModel",
     "state": {
      "_dom_classes": [],
      "_model_module": "@jupyter-widgets/controls",
      "_model_module_version": "1.5.0",
      "_model_name": "HTMLModel",
      "_view_count": null,
      "_view_module": "@jupyter-widgets/controls",
      "_view_module_version": "1.5.0",
      "_view_name": "HTMLView",
      "description": "",
      "description_tooltip": null,
      "layout": "IPY_MODEL_1b1adc90c2524c9393eb3726fd7a198e",
      "placeholder": "​",
      "style": "IPY_MODEL_8b031c6eb4844167b0862d1f99815ddf",
      "value": " 170498071/170498071 [00:06&lt;00:00, 30130105.74it/s]"
     }
    },
    "82d056629fd14033a6740828ae32462b": {
     "model_module": "@jupyter-widgets/controls",
     "model_module_version": "1.5.0",
     "model_name": "HBoxModel",
     "state": {
      "_dom_classes": [],
      "_model_module": "@jupyter-widgets/controls",
      "_model_module_version": "1.5.0",
      "_model_name": "HBoxModel",
      "_view_count": null,
      "_view_module": "@jupyter-widgets/controls",
      "_view_module_version": "1.5.0",
      "_view_name": "HBoxView",
      "box_style": "",
      "children": [
       "IPY_MODEL_e2cebb95b376423c9a8fab33d8999249",
       "IPY_MODEL_f444c599b5e84fb3abbe64548cd0b1d7",
       "IPY_MODEL_76ec660c54884e8e922267ae002f7bdb"
      ],
      "layout": "IPY_MODEL_b8cf90f72fcc4ceb87ad537e4801a610"
     }
    },
    "8b031c6eb4844167b0862d1f99815ddf": {
     "model_module": "@jupyter-widgets/controls",
     "model_module_version": "1.5.0",
     "model_name": "DescriptionStyleModel",
     "state": {
      "_model_module": "@jupyter-widgets/controls",
      "_model_module_version": "1.5.0",
      "_model_name": "DescriptionStyleModel",
      "_view_count": null,
      "_view_module": "@jupyter-widgets/base",
      "_view_module_version": "1.2.0",
      "_view_name": "StyleView",
      "description_width": ""
     }
    },
    "9a398ea1ecd146ff81f2919fa54ed592": {
     "model_module": "@jupyter-widgets/base",
     "model_module_version": "1.2.0",
     "model_name": "LayoutModel",
     "state": {
      "_model_module": "@jupyter-widgets/base",
      "_model_module_version": "1.2.0",
      "_model_name": "LayoutModel",
      "_view_count": null,
      "_view_module": "@jupyter-widgets/base",
      "_view_module_version": "1.2.0",
      "_view_name": "LayoutView",
      "align_content": null,
      "align_items": null,
      "align_self": null,
      "border": null,
      "bottom": null,
      "display": null,
      "flex": null,
      "flex_flow": null,
      "grid_area": null,
      "grid_auto_columns": null,
      "grid_auto_flow": null,
      "grid_auto_rows": null,
      "grid_column": null,
      "grid_gap": null,
      "grid_row": null,
      "grid_template_areas": null,
      "grid_template_columns": null,
      "grid_template_rows": null,
      "height": null,
      "justify_content": null,
      "justify_items": null,
      "left": null,
      "margin": null,
      "max_height": null,
      "max_width": null,
      "min_height": null,
      "min_width": null,
      "object_fit": null,
      "object_position": null,
      "order": null,
      "overflow": null,
      "overflow_x": null,
      "overflow_y": null,
      "padding": null,
      "right": null,
      "top": null,
      "visibility": null,
      "width": null
     }
    },
    "b8cf90f72fcc4ceb87ad537e4801a610": {
     "model_module": "@jupyter-widgets/base",
     "model_module_version": "1.2.0",
     "model_name": "LayoutModel",
     "state": {
      "_model_module": "@jupyter-widgets/base",
      "_model_module_version": "1.2.0",
      "_model_name": "LayoutModel",
      "_view_count": null,
      "_view_module": "@jupyter-widgets/base",
      "_view_module_version": "1.2.0",
      "_view_name": "LayoutView",
      "align_content": null,
      "align_items": null,
      "align_self": null,
      "border": null,
      "bottom": null,
      "display": null,
      "flex": null,
      "flex_flow": null,
      "grid_area": null,
      "grid_auto_columns": null,
      "grid_auto_flow": null,
      "grid_auto_rows": null,
      "grid_column": null,
      "grid_gap": null,
      "grid_row": null,
      "grid_template_areas": null,
      "grid_template_columns": null,
      "grid_template_rows": null,
      "height": null,
      "justify_content": null,
      "justify_items": null,
      "left": null,
      "margin": null,
      "max_height": null,
      "max_width": null,
      "min_height": null,
      "min_width": null,
      "object_fit": null,
      "object_position": null,
      "order": null,
      "overflow": null,
      "overflow_x": null,
      "overflow_y": null,
      "padding": null,
      "right": null,
      "top": null,
      "visibility": null,
      "width": null
     }
    },
    "e2cebb95b376423c9a8fab33d8999249": {
     "model_module": "@jupyter-widgets/controls",
     "model_module_version": "1.5.0",
     "model_name": "HTMLModel",
     "state": {
      "_dom_classes": [],
      "_model_module": "@jupyter-widgets/controls",
      "_model_module_version": "1.5.0",
      "_model_name": "HTMLModel",
      "_view_count": null,
      "_view_module": "@jupyter-widgets/controls",
      "_view_module_version": "1.5.0",
      "_view_name": "HTMLView",
      "description": "",
      "description_tooltip": null,
      "layout": "IPY_MODEL_9a398ea1ecd146ff81f2919fa54ed592",
      "placeholder": "​",
      "style": "IPY_MODEL_40fe74493fd94cd4b756458bafc6ace0",
      "value": "100%"
     }
    },
    "f444c599b5e84fb3abbe64548cd0b1d7": {
     "model_module": "@jupyter-widgets/controls",
     "model_module_version": "1.5.0",
     "model_name": "FloatProgressModel",
     "state": {
      "_dom_classes": [],
      "_model_module": "@jupyter-widgets/controls",
      "_model_module_version": "1.5.0",
      "_model_name": "FloatProgressModel",
      "_view_count": null,
      "_view_module": "@jupyter-widgets/controls",
      "_view_module_version": "1.5.0",
      "_view_name": "ProgressView",
      "bar_style": "success",
      "description": "",
      "description_tooltip": null,
      "layout": "IPY_MODEL_5eecb404afcf4b638b6483b7eb486fff",
      "max": 170498071,
      "min": 0,
      "orientation": "horizontal",
      "style": "IPY_MODEL_2a0583b28acb4608b33c45048b00fdfb",
      "value": 170498071
     }
    }
   }
  }
 },
 "nbformat": 4,
 "nbformat_minor": 1
}
